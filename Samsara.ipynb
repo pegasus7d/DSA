{
 "cells": [
  {
   "cell_type": "markdown",
   "id": "3381cd6d-2624-4127-8bf9-8ad7e25ea627",
   "metadata": {},
   "source": [
    "Valid Suddoko and bipartite graph"
   ]
  },
  {
   "cell_type": "markdown",
   "id": "f69df467-3cbe-4657-b65e-5dba72311a0d",
   "metadata": {},
   "source": [
    "```cpp\n",
    "class Solution {\n",
    "public:\n",
    "    bool isValidSudoku(vector<vector<char>>& board) {\n",
    "\n",
    "        unordered_set<string>st;\n",
    "\n",
    "        for(int i=0;i<9;i++){\n",
    "            for(int j=0;j<9;j++){\n",
    "                if(board[i][j]=='.')continue;\n",
    "\n",
    "\n",
    "\n",
    "\n",
    "\n",
    "                string row=board[i][j]+string(\"r\")+to_string(i);\n",
    "                string col=board[i][j]+string(\"c\")+to_string(j);\n",
    "                string box=board[i][j]+string(\"b\")+to_string(i/3)+string(\"b\")+to_string(j/3);\n",
    "\n",
    "\n",
    "                if(st.find(row)!=st.end()  ||  st.find(col)!=st.end()  || st.find(box)!=st.end() ){\n",
    "                    return false;\n",
    "                }\n",
    "                st.insert(row);\n",
    "                st.insert(col);\n",
    "                st.insert(box);\n",
    "\n",
    "            }\n",
    "        }\n",
    "        return true;\n",
    "        \n",
    "    }\n",
    "};"
   ]
  },
  {
   "cell_type": "markdown",
   "id": "b0cf8f04-8504-4ed1-b8d4-a3ad3761acd6",
   "metadata": {},
   "source": [
    "```cpp\n"
   ]
  }
 ],
 "metadata": {
  "kernelspec": {
   "display_name": "Python 3 (ipykernel)",
   "language": "python",
   "name": "python3"
  },
  "language_info": {
   "codemirror_mode": {
    "name": "ipython",
    "version": 3
   },
   "file_extension": ".py",
   "mimetype": "text/x-python",
   "name": "python",
   "nbconvert_exporter": "python",
   "pygments_lexer": "ipython3",
   "version": "3.12.3"
  }
 },
 "nbformat": 4,
 "nbformat_minor": 5
}
